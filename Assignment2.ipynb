{
 "cells": [
  {
   "cell_type": "code",
   "execution_count": 3,
   "id": "6563a8f7-df63-45c7-8367-1e8e9e82271f",
   "metadata": {},
   "outputs": [
    {
     "name": "stdin",
     "output_type": "stream",
     "text": [
      "Please enter the marks 87\n"
     ]
    },
    {
     "name": "stdout",
     "output_type": "stream",
     "text": [
      "The Grade is B\n"
     ]
    }
   ],
   "source": [
    "#Answer1:\n",
    "#Write a program to accept percentage from the user and display the grade according to the following criteria:\n",
    "#input marks here\n",
    "\n",
    "marks = int(input(\"Please enter the marks\"))\n",
    "\n",
    "if (marks > 90):\n",
    "    print(\"The Grade is A\")\n",
    "elif (marks > 80 and marks <= 90):\n",
    "    print(\"The Grade is B\")\n",
    "elif (marks >= 60 and marks <=80):\n",
    "    print(\"The Grade is C\")\n",
    "else:\n",
    "    print(\"The Grade is D\")"
   ]
  },
  {
   "cell_type": "code",
   "execution_count": 11,
   "id": "b98a5238-e166-41dd-9c03-95f76a169f12",
   "metadata": {},
   "outputs": [
    {
     "name": "stdin",
     "output_type": "stream",
     "text": [
      "Enter the cost of bike 550000\n"
     ]
    },
    {
     "name": "stdout",
     "output_type": "stream",
     "text": [
      "The road tax is 15%\n"
     ]
    }
   ],
   "source": [
    "#Answer2:\n",
    "#Write a program to accept the cost price of a bike and display\n",
    "#the road tax to be paid according to the following criteria\n",
    "\n",
    "cost_of_bike = float(input(\"Enter the cost of bike\"))\n",
    "\n",
    "if (cost_of_bike> 100000):\n",
    "    print(\"The road tax is 15%\")\n",
    "elif (cost_of_bike > 50000 and cost_of_bike <= 100000):\n",
    "    print(\"The road tax is 10%\")\n",
    "elif (cost_of_bike <= 50000):\n",
    "    print(\"The road tax is 5%\")"
   ]
  },
  {
   "cell_type": "code",
   "execution_count": 17,
   "id": "dba93bc6-099c-4f2e-a8aa-b0ce253dd6bb",
   "metadata": {},
   "outputs": [
    {
     "name": "stdin",
     "output_type": "stream",
     "text": [
      "Please enter the city Jaipur\n"
     ]
    },
    {
     "name": "stdout",
     "output_type": "stream",
     "text": [
      "The Monument of Jaipur is Jal Mahal\n"
     ]
    }
   ],
   "source": [
    "#Answer3:\n",
    "#accept any city from the user and display monuments of that city\n",
    "\n",
    "city = input(\"Please enter the city\")\n",
    "\n",
    "if (city == \"Delhi\"):\n",
    "    print(\"The Monument of delhi is Red Fort\")\n",
    "elif (city == \"Agra\"):\n",
    "    print(\"The Monument of Agra is Taj Mahal\")\n",
    "elif (city == \"Jaipur\"):\n",
    "    print(\"The Monument of Jaipur is Jal Mahal\")\n"
   ]
  },
  {
   "cell_type": "code",
   "execution_count": 24,
   "id": "8d0ea51b-8c72-4845-bdf4-4131d1322405",
   "metadata": {},
   "outputs": [
    {
     "name": "stdin",
     "output_type": "stream",
     "text": [
      "Enter the number 4568455\n"
     ]
    },
    {
     "name": "stdout",
     "output_type": "stream",
     "text": [
      "The number can be divided by 3 is 12 times before it is less than or equal to 10.\n"
     ]
    }
   ],
   "source": [
    "#Answer4:\n",
    "#check how many times a given number can be divided by 3\n",
    "#before it is less than or equal to 10\n",
    "\n",
    "number = int(input(\"Enter the number\"))\n",
    "\n",
    "count = 0\n",
    "\n",
    "while number > 10:\n",
    "    \n",
    "    number = number/3\n",
    "\n",
    "    count +=1\n",
    "\n",
    "print (\"The number can be divided by 3 is\", count, \"times before it is less than or equal to 10.\")\n"
   ]
  },
  {
   "cell_type": "code",
   "execution_count": 28,
   "id": "07ad272c-effc-40ea-a208-a7d454fb97e3",
   "metadata": {},
   "outputs": [
    {
     "name": "stdin",
     "output_type": "stream",
     "text": [
      "Enter the number 12\n"
     ]
    },
    {
     "name": "stdout",
     "output_type": "stream",
     "text": [
      "12\n",
      "14\n",
      "16\n",
      "18\n",
      "20\n"
     ]
    }
   ],
   "source": [
    "#Answer5:\n",
    "#Why and when to use while loop in python\n",
    "#give a detailed description with example\n",
    "\n",
    "# A while loop in Python is used to repeatedly execute a block of code\n",
    "# as long as a certain condition is met.\n",
    "# The loop will keep running as long as the condition is True,\n",
    "# and will exit when the condition becomes False.\n",
    "# Here's the general syntax for a while loop in Python:\n",
    "               # while condition:\n",
    "               # Code to be executed\n",
    "\n",
    "        \n",
    "# Here's an example that demonstrates the use of a while loop:\n",
    "#print even numbers from given input\n",
    "\n",
    "num = int(input(\"Enter the number\"))\n",
    "while (num<=20):\n",
    "    print(num)\n",
    "    num = num+2\n",
    "\n",
    "\n",
    "\n"
   ]
  },
  {
   "cell_type": "code",
   "execution_count": 45,
   "id": "7533b5c4-3048-404a-add9-8fa25459308e",
   "metadata": {},
   "outputs": [
    {
     "name": "stdout",
     "output_type": "stream",
     "text": [
      "Pattern 1\n",
      "* \n",
      "* * \n",
      "* * * \n",
      "* * * * \n",
      " \n",
      "pattern 2\n",
      "0 \n",
      "0 1 \n",
      "0 1 2 \n",
      "0 1 2 3 \n",
      "\n",
      "pattern 3\n",
      "1 \n",
      "3 3 \n",
      "5 5 5 \n",
      "7 7 7 7 \n",
      "9 9 9 9 9 \n"
     ]
    }
   ],
   "source": [
    "#Answer6\n",
    "\n",
    "#Pattern1 :\n",
    " \n",
    "    \n",
    "print(\"Pattern 1\")\n",
    "\n",
    "i = 1\n",
    "# outer while loop\n",
    "# 4 rows in pattern\n",
    "while i < 5:\n",
    "    j = 0\n",
    "    # nested while loop\n",
    "    while j < i:\n",
    "        print('*', end=' ')\n",
    "        j +=1\n",
    "    # end of nested while loop\n",
    "    # new line after each row\n",
    "    print('')\n",
    "    i += 1\n",
    "print(\" \")   \n",
    "    \n",
    "    \n",
    "#pattern2  :\n",
    "\n",
    "print(\"pattern 2\")\n",
    "\n",
    "i = 1\n",
    "# outer while loop\n",
    "# 4 rows in pattern\n",
    "while i < 5:\n",
    "    j = 0\n",
    "    # nested while loop\n",
    "    while j < i:\n",
    "        print(j, end=' ')\n",
    "        j +=1\n",
    "    # end of nested while loop\n",
    "    # new line after each row\n",
    "    print('')\n",
    "    i += 1\n",
    "print('') \n",
    "\n",
    "\n",
    "print(\"pattern 3\")\n",
    "\n",
    "rows = 5\n",
    "i = 1\n",
    "while i <= rows:\n",
    "    j = 1\n",
    "    while j <= i:\n",
    "        print((i * 2 - 1), end=\" \")\n",
    "        j = j + 1\n",
    "    i = i + 1\n",
    "    print('')"
   ]
  },
  {
   "cell_type": "code",
   "execution_count": 46,
   "id": "308776d4-18ab-4aec-aa4b-3fa257b0fabe",
   "metadata": {},
   "outputs": [
    {
     "name": "stdout",
     "output_type": "stream",
     "text": [
      "10\n",
      "9\n",
      "8\n",
      "7\n",
      "6\n",
      "5\n",
      "4\n",
      "3\n",
      "2\n",
      "1\n"
     ]
    }
   ],
   "source": [
    "#Answer7\n",
    "\n",
    "#reverse a while loop to display the numbers from 10 to 1\n",
    "\n",
    "#variable declaration\n",
    "upperBound=10\n",
    "lowerBound=1\n",
    "#while loop\n",
    "while upperBound>=lowerBound:\n",
    "    #print upperBound\n",
    "    print(upperBound)\n",
    "    #decrement upperBound by 1\n",
    "    upperBound-=1\n"
   ]
  },
  {
   "cell_type": "code",
   "execution_count": 47,
   "id": "979f3a38-f2ec-4693-9557-1de352e90fb9",
   "metadata": {},
   "outputs": [
    {
     "name": "stdout",
     "output_type": "stream",
     "text": [
      "10\n",
      "9\n",
      "8\n",
      "7\n",
      "6\n",
      "5\n",
      "4\n",
      "3\n",
      "2\n",
      "1\n"
     ]
    }
   ],
   "source": [
    "# Answer8\n",
    "\n",
    "#reverse a while loop to display the numbers from 10 to 1\n",
    "\n",
    "#variable declaration\n",
    "upperBound=10\n",
    "lowerBound=1\n",
    "#while loop\n",
    "while upperBound>=lowerBound:\n",
    "    #print upperBound\n",
    "    print(upperBound)\n",
    "    #decrement upperBound by 1\n",
    "    upperBound-=1"
   ]
  },
  {
   "cell_type": "code",
   "execution_count": null,
   "id": "9106d2e5-9668-47e4-9617-7dcea3417eec",
   "metadata": {},
   "outputs": [],
   "source": []
  }
 ],
 "metadata": {
  "kernelspec": {
   "display_name": "Python 3 (ipykernel)",
   "language": "python",
   "name": "python3"
  },
  "language_info": {
   "codemirror_mode": {
    "name": "ipython",
    "version": 3
   },
   "file_extension": ".py",
   "mimetype": "text/x-python",
   "name": "python",
   "nbconvert_exporter": "python",
   "pygments_lexer": "ipython3",
   "version": "3.10.8"
  }
 },
 "nbformat": 4,
 "nbformat_minor": 5
}
